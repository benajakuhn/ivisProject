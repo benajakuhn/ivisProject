{
 "cells": [
  {
   "cell_type": "code",
   "id": "initial_id",
   "metadata": {
    "collapsed": true,
    "ExecuteTime": {
     "end_time": "2024-09-30T13:01:18.499339Z",
     "start_time": "2024-09-30T13:00:26.799567Z"
    }
   },
   "source": [
    "import pandas as pd\n",
    "import numpy as np\n",
    "\n",
    "df = pd.read_csv('data/weatherus.csv')\n",
    "df['DATE'] = pd.to_datetime(df['DATE'])\n",
    "df_filtered = df[(df['DATE'] >= '2015-01-01') & (df['DATE'] <= '2018-12-31')]\n",
    "df_filtered.to_csv('data/weatherus_filtered.csv', index=False)"
   ],
   "outputs": [],
   "execution_count": 1
  },
  {
   "metadata": {
    "ExecuteTime": {
     "end_time": "2024-10-14T11:20:01.504582Z",
     "start_time": "2024-10-14T11:19:27.215886Z"
    }
   },
   "cell_type": "code",
   "source": [
    "import pandas as pd\n",
    "weather_data = pd.read_csv('data/weatherus_filtered.csv')"
   ],
   "id": "59f7dc5e074ff56e",
   "outputs": [],
   "execution_count": 2
  },
  {
   "metadata": {
    "ExecuteTime": {
     "end_time": "2024-10-14T11:20:53.040944Z",
     "start_time": "2024-10-14T11:20:47.816644Z"
    }
   },
   "cell_type": "code",
   "source": "weather_data = weather_data.drop_duplicates(subset='ID')",
   "id": "6a6bf8ff0d63d6a0",
   "outputs": [],
   "execution_count": 3
  },
  {
   "metadata": {
    "ExecuteTime": {
     "end_time": "2024-10-14T11:22:38.411480Z",
     "start_time": "2024-10-14T11:21:53.416437Z"
    }
   },
   "cell_type": "code",
   "source": [
    "def haversine(lat1, lon1, lat2, lon2):\n",
    "    R = 6371 \n",
    "    phi1, phi2 = np.radians(lat1), np.radians(lat2)\n",
    "    delta_phi = np.radians(lat2 - lat1)\n",
    "    delta_lambda = np.radians(lon2 - lon1)\n",
    "    \n",
    "    a = np.sin(delta_phi / 2.0)**2 + np.cos(phi1) * np.cos(phi2) * np.sin(delta_lambda / 2.0)**2\n",
    "    c = 2 * np.arctan2(np.sqrt(a), np.sqrt(1 - a))\n",
    "    \n",
    "    return R * c\n",
    "\n",
    "regions_data = pd.read_csv('data/regions_coordinates.csv')\n",
    "\n",
    "closest_station_ids = []\n",
    "\n",
    "for _, region in regions_data.iterrows():\n",
    "    region_lat = region['Latitude']\n",
    "    region_lon = region['Longitude']\n",
    "    \n",
    "    distances = weather_data.apply(\n",
    "        lambda row: haversine(region_lat, region_lon, row['Latitude'], row['Longitude']),\n",
    "        axis=1\n",
    "    )\n",
    "    \n",
    "    closest_station_index = distances.idxmin()\n",
    "    closest_station_id = weather_data.at[closest_station_index, 'ID']\n",
    "    \n",
    "    closest_station_ids.append(closest_station_id)\n",
    "\n",
    "regions_data['ClosestStationID'] = closest_station_ids\n",
    "\n",
    "regions_data.to_csv('data/updated_regions_data.csv', index=False)\n",
    "\n",
    "print(\"Closest station IDs have been added to the regions file.\")\n"
   ],
   "id": "a1fb40aa76d6c392",
   "outputs": [
    {
     "name": "stdout",
     "output_type": "stream",
     "text": [
      "Closest station IDs have been added to the regions file.\n"
     ]
    }
   ],
   "execution_count": 5
  },
  {
   "metadata": {
    "ExecuteTime": {
     "end_time": "2024-10-14T11:35:53.907273Z",
     "start_time": "2024-10-14T11:35:20.446130Z"
    }
   },
   "cell_type": "code",
   "source": [
    "df_updated_regions = pd.read_csv('data/updated_regions_data.csv')\n",
    "stations = df_updated_regions['ClosestStationID'].tolist()\n",
    "\n",
    "df_weather = pd.read_csv('data/weatherus_filtered.csv')\n",
    "\n",
    "filtered_weather_data = df_weather[df_weather['ID'].isin(stations)]\n",
    "\n"
   ],
   "id": "341e09b4dbaebedc",
   "outputs": [],
   "execution_count": 9
  },
  {
   "metadata": {
    "ExecuteTime": {
     "end_time": "2024-10-14T11:44:54.605483Z",
     "start_time": "2024-10-14T11:44:54.056823Z"
    }
   },
   "cell_type": "code",
   "source": [
    "merged_data = filtered_weather_data.merge(regions_data[['Region', 'ClosestStationID']], \n",
    "                                  left_on='ID', \n",
    "                                  right_on='ClosestStationID', \n",
    "                                  how='left')\n",
    "\n",
    "merged_data = merged_data.drop(columns=['ClosestStationID'])\n",
    "\n",
    "merged_data.to_csv('data/merged_weather_data.csv', index=False)"
   ],
   "id": "43ba121586782ab0",
   "outputs": [],
   "execution_count": 12
  }
 ],
 "metadata": {
  "kernelspec": {
   "display_name": "Python 3",
   "language": "python",
   "name": "python3"
  },
  "language_info": {
   "codemirror_mode": {
    "name": "ipython",
    "version": 2
   },
   "file_extension": ".py",
   "mimetype": "text/x-python",
   "name": "python",
   "nbconvert_exporter": "python",
   "pygments_lexer": "ipython2",
   "version": "2.7.6"
  }
 },
 "nbformat": 4,
 "nbformat_minor": 5
}
