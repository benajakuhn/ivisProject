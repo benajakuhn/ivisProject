{
 "cells": [
  {
   "cell_type": "code",
   "id": "initial_id",
   "metadata": {
    "collapsed": true,
    "ExecuteTime": {
     "end_time": "2024-09-30T12:49:14.823113Z",
     "start_time": "2024-09-30T12:48:50.186145Z"
    }
   },
   "source": [
    "import pandas as pd\n",
    "\n",
    "df_weather = pd.read_csv('data/weatherus_filtered.csv')"
   ],
   "outputs": [],
   "execution_count": 6
  },
  {
   "metadata": {
    "ExecuteTime": {
     "end_time": "2024-09-30T12:49:40.438714Z",
     "start_time": "2024-09-30T12:49:40.381554Z"
    }
   },
   "cell_type": "code",
   "source": "df_avos = pd.read_csv('data/avocado.csv')",
   "id": "74f57c6630910f77",
   "outputs": [],
   "execution_count": 7
  }
 ],
 "metadata": {
  "kernelspec": {
   "display_name": "Python 3",
   "language": "python",
   "name": "python3"
  },
  "language_info": {
   "codemirror_mode": {
    "name": "ipython",
    "version": 2
   },
   "file_extension": ".py",
   "mimetype": "text/x-python",
   "name": "python",
   "nbconvert_exporter": "python",
   "pygments_lexer": "ipython2",
   "version": "2.7.6"
  }
 },
 "nbformat": 4,
 "nbformat_minor": 5
}
